{
 "cells": [
  {
   "cell_type": "code",
   "execution_count": 112,
   "metadata": {
    "slideshow": {
     "slide_type": "slide"
    }
   },
   "outputs": [
    {
     "data": {
      "text/html": [
       "<style>\n",
       "\n",
       ".CodeMirror {\n",
       "    width: 100vw;\n",
       "}\n",
       "S\n",
       ".container {\n",
       "    width: 99% !important;\n",
       "}\n",
       "\n",
       ".rendered_html {\n",
       "  font-size:0.8em;\n",
       "}\n",
       ".rendered_html table, .rendered_html th, .rendered_html tr, .rendered_html td {\n",
       "     font-size: 100%;\n",
       "}\n",
       "\n",
       "</style>"
      ],
      "text/plain": [
       "<IPython.core.display.HTML object>"
      ]
     },
     "metadata": {},
     "output_type": "display_data"
    }
   ],
   "source": [
    "%%html\n",
    "<style>\n",
    "\n",
    ".CodeMirror {\n",
    "    width: 100vw;\n",
    "}\n",
    "S\n",
    ".container {\n",
    "    width: 99% !important;\n",
    "}\n",
    "\n",
    ".rendered_html {\n",
    "  font-size:0.8em;\n",
    "}\n",
    ".rendered_html table, .rendered_html th, .rendered_html tr, .rendered_html td {\n",
    "     font-size: 100%;\n",
    "}\n",
    "\n",
    "</style>"
   ]
  },
  {
   "cell_type": "code",
   "execution_count": null,
   "metadata": {
    "slideshow": {
     "slide_type": "skip"
    }
   },
   "outputs": [],
   "source": [
    "%%capture\n",
    "%run \"NAND programming language.ipynb\"\n",
    "# from IPython.display import clear_output\n",
    "# clear_output()"
   ]
  },
  {
   "cell_type": "markdown",
   "metadata": {
    "slideshow": {
     "slide_type": "slide"
    }
   },
   "source": [
    "![alt](ahlfors.png \"\")"
   ]
  },
  {
   "cell_type": "markdown",
   "metadata": {
    "slideshow": {
     "slide_type": "slide"
    }
   },
   "source": [
    "## Lecture 3: Defining Computation"
   ]
  },
  {
   "cell_type": "code",
   "execution_count": 113,
   "metadata": {
    "slideshow": {
     "slide_type": "fragment"
    }
   },
   "outputs": [
    {
     "data": {
      "text/html": [
       "Laptops etc last 5 rows<br><iframe src=\"http://free.timeanddate.com/countdown/i5vf6j5p/n43/cf11/cm0/cu4/ct1/cs1/ca0/co0/cr0/ss0/cac09f/cpc09f/pct/tcfff/fs100/szw576/szh243/iso2018-09-11T10:30:00\" allowTransparency=\"true\" frameborder=\"0\" width=\"177\" height=\"35\"></iframe>"
      ],
      "text/plain": [
       "<IPython.core.display.HTML object>"
      ]
     },
     "execution_count": 113,
     "metadata": {},
     "output_type": "execute_result"
    }
   ],
   "source": [
    "from IPython.core.display import HTML\n",
    "HTML('Laptops etc last 5 rows<br><iframe src=\"http://free.timeanddate.com/countdown/i5vf6j5p/n43/cf11/cm0/cu4/ct1/cs1/ca0/co0/cr0/ss0/cac09f/cpc09f/pct/tcfff/fs100/szw576/szh243/iso2018-09-11T10:30:00\" allowTransparency=\"true\" frameborder=\"0\" width=\"177\" height=\"35\"></iframe>')\n"
   ]
  },
  {
   "cell_type": "markdown",
   "metadata": {
    "slideshow": {
     "slide_type": "skip"
    }
   },
   "source": [
    "   ## On collaboration\n",
    "    \n",
    "   Solving  _80% of questions on your own_ is better for your understanding __and grade__ than solving _100% with others_.\n",
    "\n"
   ]
  },
  {
   "cell_type": "markdown",
   "metadata": {
    "slideshow": {
     "slide_type": "slide"
    }
   },
   "source": [
    "## Computation\n",
    "\n",
    "Like a recipe - follow _sequence of basic steps_ to achieve desired result"
   ]
  },
  {
   "cell_type": "markdown",
   "metadata": {
    "slideshow": {
     "slide_type": "fragment"
    }
   },
   "source": [
    "Important to distinguish **what** and **how**"
   ]
  },
  {
   "cell_type": "markdown",
   "metadata": {
    "slideshow": {
     "slide_type": "fragment"
    }
   },
   "source": [
    "**what**/**specification**: The function $F:\\{0,1\\}^n \\rightarrow \\{0,1\\}^m$ we want to compute"
   ]
  },
  {
   "cell_type": "markdown",
   "metadata": {
    "slideshow": {
     "slide_type": "fragment"
    }
   },
   "source": [
    "**how**/**implementation**: The _algorithm_ or _program_ specifying instructions how to compute it."
   ]
  },
  {
   "cell_type": "markdown",
   "metadata": {
    "slideshow": {
     "slide_type": "fragment"
    }
   },
   "source": [
    "There are many programs to compute the same function!"
   ]
  },
  {
   "cell_type": "markdown",
   "metadata": {
    "slideshow": {
     "slide_type": "slide"
    }
   },
   "source": [
    "## Is the following a function?"
   ]
  },
  {
   "cell_type": "code",
   "execution_count": null,
   "metadata": {
    "slideshow": {
     "slide_type": "fragment"
    }
   },
   "outputs": [],
   "source": [
    "def f(n):\n",
    "    return n*2"
   ]
  },
  {
   "cell_type": "markdown",
   "metadata": {
    "slideshow": {
     "slide_type": "fragment"
    }
   },
   "source": [
    "a. Yes\n",
    "\n",
    "b. No\n",
    "\n",
    "[pollev.com/cs121](http://pollev.com/cs121)"
   ]
  },
  {
   "cell_type": "code",
   "execution_count": null,
   "metadata": {
    "scrolled": true,
    "slideshow": {
     "slide_type": "fragment"
    }
   },
   "outputs": [],
   "source": [
    "%%html\n",
    "<iframe src=\"https://e.ggtimer.com/60?alert=false\" frameborder=\"0\" allowfullscreen  width=\" 80%\" height=\"100\" style=\"box-shadow: 0 0 16px gray; margin: 10px;\" name=\"test\" id=\"test\"></iframe>"
   ]
  },
  {
   "cell_type": "markdown",
   "metadata": {
    "slideshow": {
     "slide_type": "slide"
    }
   },
   "source": [
    "## NO"
   ]
  },
  {
   "cell_type": "code",
   "execution_count": null,
   "metadata": {
    "slideshow": {
     "slide_type": "fragment"
    }
   },
   "outputs": [],
   "source": [
    "def f(n):\n",
    "    return n*2\n",
    "\n",
    "def g(n):\n",
    "    L = []\n",
    "    for i in range(n): L = L + [2]\n",
    "    return sum(L)\n",
    "    "
   ]
  },
  {
   "cell_type": "code",
   "execution_count": null,
   "metadata": {
    "slideshow": {
     "slide_type": "fragment"
    }
   },
   "outputs": [],
   "source": [
    "f(30)"
   ]
  },
  {
   "cell_type": "code",
   "execution_count": null,
   "metadata": {
    "slideshow": {
     "slide_type": "fragment"
    }
   },
   "outputs": [],
   "source": [
    "g(30)"
   ]
  },
  {
   "cell_type": "code",
   "execution_count": null,
   "metadata": {
    "slideshow": {
     "slide_type": "fragment"
    }
   },
   "outputs": [],
   "source": [
    "[f(n)==g(n) for n in range(10)]"
   ]
  },
  {
   "cell_type": "markdown",
   "metadata": {
    "slideshow": {
     "slide_type": "fragment"
    }
   },
   "source": [
    "`f` and `g` _compute_ the same function but they are _not_ identical objects. "
   ]
  },
  {
   "cell_type": "markdown",
   "metadata": {
    "slideshow": {
     "slide_type": "slide"
    }
   },
   "source": [
    "## Computing using NAND"
   ]
  },
  {
   "cell_type": "markdown",
   "metadata": {
    "slideshow": {
     "slide_type": "fragment"
    }
   },
   "source": [
    "![alt](transistor-NAND-Gate.png \"\")"
   ]
  },
  {
   "cell_type": "markdown",
   "metadata": {
    "slideshow": {
     "slide_type": "slide"
    }
   },
   "source": [
    "![alt](moorelaw.jpeg \"\")"
   ]
  },
  {
   "cell_type": "code",
   "execution_count": null,
   "metadata": {
    "slideshow": {
     "slide_type": "slide"
    }
   },
   "outputs": [],
   "source": [
    "def mystery1(x): return NAND(NAND(x,x),NAND(x,x))\n",
    "\n",
    "nandcircuit(mystery1)"
   ]
  },
  {
   "cell_type": "code",
   "execution_count": null,
   "metadata": {
    "slideshow": {
     "slide_type": "fragment"
    }
   },
   "outputs": [],
   "source": [
    "print(nandcode(mystery1))"
   ]
  },
  {
   "cell_type": "markdown",
   "metadata": {
    "slideshow": {
     "slide_type": "fragment"
    }
   },
   "source": [
    "What function does `mystery1` compute?"
   ]
  },
  {
   "cell_type": "code",
   "execution_count": null,
   "metadata": {
    "slideshow": {
     "slide_type": "fragment"
    }
   },
   "outputs": [],
   "source": [
    "%%html\n",
    "<iframe src=\"https://e.ggtimer.com/120?alert=false\" frameborder=\"0\" allowfullscreen  width=\" 80%\" height=\"100\" style=\"box-shadow: 0 0 16px gray; margin: 10px;\" name=\"test\" id=\"test\"></iframe>"
   ]
  },
  {
   "cell_type": "code",
   "execution_count": null,
   "metadata": {
    "slideshow": {
     "slide_type": "skip"
    }
   },
   "outputs": [],
   "source": [
    "def mystery2(a,b): return AND(a,NOT(b))"
   ]
  },
  {
   "cell_type": "markdown",
   "metadata": {
    "slideshow": {
     "slide_type": "slide"
    }
   },
   "source": [
    "## Which function does mystery2 compute?"
   ]
  },
  {
   "cell_type": "code",
   "execution_count": null,
   "metadata": {
    "slideshow": {
     "slide_type": "fragment"
    }
   },
   "outputs": [],
   "source": [
    "nandcircuit(mystery2)"
   ]
  },
  {
   "cell_type": "code",
   "execution_count": null,
   "metadata": {
    "slideshow": {
     "slide_type": "fragment"
    }
   },
   "outputs": [],
   "source": [
    "%%html\n",
    "<iframe src=\"https://e.ggtimer.com/180?alert=false\" frameborder=\"0\" allowfullscreen  width=\" 70%\" height=\"100\" style=\"box-shadow: 0 0 16px gray; margin: 10px;\" name=\"test\" id=\"test\"></iframe>"
   ]
  },
  {
   "cell_type": "code",
   "execution_count": null,
   "metadata": {
    "slideshow": {
     "slide_type": "fragment"
    }
   },
   "outputs": [],
   "source": [
    "for a in [0,1]: \n",
    "    for b in [0,1]:\n",
    "        print(f\"{a} {b} | {mystery2(a,b)}\") "
   ]
  },
  {
   "cell_type": "markdown",
   "metadata": {
    "slideshow": {
     "slide_type": "slide"
    }
   },
   "source": [
    "__Exercise:__  Draw NAND circuit for function $BIG_2:\\{0,1\\}^4 \\rightarrow \\{0,1\\}$ such that $BIGGER(a,b,c,d)=1$ iff $a+2*b > c +2*d$"
   ]
  },
  {
   "cell_type": "code",
   "execution_count": null,
   "metadata": {
    "slideshow": {
     "slide_type": "fragment"
    }
   },
   "outputs": [],
   "source": [
    "%%html\n",
    "<iframe src=\"https://e.ggtimer.com/240?alert=false\" frameborder=\"0\" allowfullscreen  width=\" 80%\" height=\"100\" style=\"box-shadow: 0 0 16px gray; margin: 10px;\" name=\"test\" id=\"test\"></iframe>"
   ]
  },
  {
   "cell_type": "markdown",
   "metadata": {
    "slideshow": {
     "slide_type": "slide"
    }
   },
   "source": [
    "__Exercise:__  Draw NAND circuit for function $BIG_2:\\{0,1\\}^4 \\rightarrow \\{0,1\\}$ such that $BIGGER(a,b,c,d)=1$ iff $a+2*b > c +2*d$"
   ]
  },
  {
   "cell_type": "code",
   "execution_count": null,
   "metadata": {
    "slideshow": {
     "slide_type": "fragment"
    }
   },
   "outputs": [],
   "source": [
    "def NOT(a): return NAND(a,a)\n",
    "def OR(a,b): return NAND(NOT(a),NOT(b))\n",
    "def AND(a,b): return NOT(NAND(a,b))\n",
    "\n",
    "def BIG2(a,b,c,d):  return OR(mystery2(b,d),AND(NOT(mystery2(d,b)),mystery2(a,c)))"
   ]
  },
  {
   "cell_type": "code",
   "execution_count": null,
   "metadata": {
    "slideshow": {
     "slide_type": "skip"
    }
   },
   "outputs": [],
   "source": [
    "import itertools"
   ]
  },
  {
   "cell_type": "code",
   "execution_count": null,
   "metadata": {
    "slideshow": {
     "slide_type": "fragment"
    }
   },
   "outputs": [],
   "source": [
    "for (a,b,c,d) in itertools.product([0,1],[0,1],[0,1],[0,1]): # ∀(a,b,c,d)∈{0,1}×{0,1}×{0,1}×{0,1}\n",
    "    print(f\"{a} {b} {c} {d} |  {a+2*b} {c+2*d} | {BIG2(a,b,c,d)}\")"
   ]
  },
  {
   "cell_type": "code",
   "execution_count": null,
   "metadata": {
    "slideshow": {
     "slide_type": "slide"
    }
   },
   "outputs": [],
   "source": [
    "nandcircuit(BIG2)"
   ]
  },
  {
   "cell_type": "code",
   "execution_count": null,
   "metadata": {
    "slideshow": {
     "slide_type": "slide"
    }
   },
   "outputs": [],
   "source": [
    "nandcircuit(BIG2,pruneit=True)"
   ]
  },
  {
   "cell_type": "markdown",
   "metadata": {
    "slideshow": {
     "slide_type": "slide"
    }
   },
   "source": [
    "## Getting the code and syntactic sugar"
   ]
  },
  {
   "cell_type": "code",
   "execution_count": null,
   "metadata": {
    "slideshow": {
     "slide_type": "fragment"
    }
   },
   "outputs": [],
   "source": [
    "def NOT(a): return NAND(a,a)\n",
    "def OR(a,b): return NAND(NOT(a),NOT(b))\n",
    "def AND(a,b): return NOT(NAND(a,b))\n",
    "\n",
    "def BIG2(a,b,c,d):  return OR(mystery2(b,d),AND(NOT(mystery2(d,b)),mystery2(a,c)))"
   ]
  },
  {
   "cell_type": "code",
   "execution_count": null,
   "metadata": {
    "slideshow": {
     "slide_type": "fragment"
    }
   },
   "outputs": [],
   "source": [
    "ctr = 0\n",
    "def NAND(a,b): \n",
    "    global ctr\n",
    "    temp = \"Temp[\"+str(ctr)+\"]\"\n",
    "    ctr = ctr + 1\n",
    "    print( temp + \"= NAND(\"+a+\",\"+b+\")\"  )\n",
    "    return temp"
   ]
  },
  {
   "cell_type": "code",
   "execution_count": null,
   "metadata": {
    "slideshow": {
     "slide_type": "fragment"
    }
   },
   "outputs": [],
   "source": [
    "BIG2(\"X[0]\",\"X[1]\",\"X[2]\",\"X[3]\")"
   ]
  },
  {
   "cell_type": "code",
   "execution_count": null,
   "metadata": {
    "slideshow": {
     "slide_type": "fragment"
    }
   },
   "outputs": [],
   "source": [
    "def NAND(a,b): return 1-a*b"
   ]
  },
  {
   "cell_type": "code",
   "execution_count": null,
   "metadata": {
    "slideshow": {
     "slide_type": "skip"
    }
   },
   "outputs": [],
   "source": [
    "print(nandcode(BIG2))"
   ]
  },
  {
   "cell_type": "code",
   "execution_count": null,
   "metadata": {
    "slideshow": {
     "slide_type": "skip"
    }
   },
   "outputs": [],
   "source": [
    "print(nandcode(BIG2,pruneit=True))"
   ]
  },
  {
   "cell_type": "markdown",
   "metadata": {
    "slideshow": {
     "slide_type": "skip"
    }
   },
   "source": [
    "## IF function (skip)"
   ]
  },
  {
   "cell_type": "code",
   "execution_count": null,
   "metadata": {
    "slideshow": {
     "slide_type": "skip"
    }
   },
   "outputs": [],
   "source": [
    "def IF(cond,a,b):\n",
    "    notcond = NAND(cond,cond)\n",
    "    temp = NAND(b,notcond)\n",
    "    temp1 = NAND(a,cond)\n",
    "    return NAND(temp,temp1)\n",
    "\n",
    "nandcircuit(IF)"
   ]
  },
  {
   "cell_type": "code",
   "execution_count": null,
   "metadata": {
    "slideshow": {
     "slide_type": "skip"
    }
   },
   "outputs": [],
   "source": [
    "print(nandcode(IF))"
   ]
  },
  {
   "cell_type": "code",
   "execution_count": null,
   "metadata": {
    "slideshow": {
     "slide_type": "skip"
    }
   },
   "outputs": [],
   "source": [
    "# IF(\"X[0]\",\"X[1]\",\"X[2]\");"
   ]
  },
  {
   "cell_type": "code",
   "execution_count": null,
   "metadata": {
    "slideshow": {
     "slide_type": "skip"
    }
   },
   "outputs": [],
   "source": [
    "ctr = 0\n",
    "#BIG2(\"X[0]\",\"X[1]\",\"X[2]\",\"X[3]\")"
   ]
  },
  {
   "cell_type": "markdown",
   "metadata": {
    "slideshow": {
     "slide_type": "slide"
    }
   },
   "source": [
    "## Nothing special about NAND"
   ]
  },
  {
   "cell_type": "markdown",
   "metadata": {
    "slideshow": {
     "slide_type": "fragment"
    }
   },
   "source": [
    "__Theorem:__ Let $TOF:\\{0,1\\}^3 \\rightarrow \\{0,1\\}$ defined as \n",
    "\n",
    "$$TOF(a,b,c) = \\begin{cases} NOT(c) & a=b=1 \\\\ c & \\text{otherwise} \\end{cases} $$\n",
    "\n",
    " and let $one:\\{0,1\\} \\rightarrow \\{0,1\\}$ be defined as $one(a)=1$.\n",
    " \n",
    " Then we every  NAND program can be transformed to a $(TOF,one)$ program.\n",
    " \n",
    " __Exercise!__"
   ]
  },
  {
   "cell_type": "code",
   "execution_count": null,
   "metadata": {
    "slideshow": {
     "slide_type": "fragment"
    }
   },
   "outputs": [],
   "source": [
    "%%html\n",
    "<iframe src=\"https://e.ggtimer.com/300?alert=false\" frameborder=\"0\" allowfullscreen  width=\" 80%\" height=\"100\" style=\"box-shadow: 0 0 16px gray; margin: 10px;\" name=\"test\" id=\"test\"></iframe>"
   ]
  },
  {
   "cell_type": "markdown",
   "metadata": {
    "slideshow": {
     "slide_type": "slide"
    }
   },
   "source": [
    "__Theorem:__ Let $TOF:\\{0,1\\}^3 \\rightarrow \\{0,1\\}$ defined as  $TOF(a,b,c) = \\begin{cases} NOT(c) & a=b=1 \\\\ c & \\text{otherwise} \\end{cases}$ and let $ONE:\\{0,1\\} \\rightarrow \\{0,1\\}$ be defined as $ONE(a)=1$. Then we can compute NAND using $(TOF,ONE)$"
   ]
  },
  {
   "cell_type": "markdown",
   "metadata": {
    "slideshow": {
     "slide_type": "fragment"
    }
   },
   "source": [
    "__Proof:__ $NAND(a,b) = TOF(a,b,1)$"
   ]
  },
  {
   "cell_type": "markdown",
   "metadata": {
    "slideshow": {
     "slide_type": "slide"
    }
   },
   "source": [
    "__Corollary:__ For every NAND program $P$, there is a $(TOF,ONE)$ program $Q$ that computes the same function as P"
   ]
  },
  {
   "cell_type": "code",
   "execution_count": null,
   "metadata": {
    "slideshow": {
     "slide_type": "fragment"
    }
   },
   "outputs": [],
   "source": [
    "# \"Proof by Python\"\n",
    "def TOFONE(P):\n",
    "    Q = P.replace(\"NAND(\",\"TOF(\").replace(\")\",\",ONE(X[0])\")\n",
    "    return Q\n",
    "\n",
    "print( TOFONE(nandcode(BIG2)))"
   ]
  },
  {
   "cell_type": "markdown",
   "metadata": {
    "slideshow": {
     "slide_type": "slide"
    }
   },
   "source": [
    "## Composition\n",
    "\n",
    "If we have NAND program $P$ to compute $F:\\{0,1\\}^2 \\rightarrow \\{0,1\\}$  then there is NAND program $Q$ to compute $G:\\{0,1\\}^4 \\rightarrow \\{0,1\\}$\n",
    "where $G(a,b,c,d) = F(F(a,b),F(c,d))$\n",
    "\n",
    "Number of lines in $Q$  = $3 \\times$ number of lines in $P$\n",
    "\n",
    "__Exercise:__ Give 12 line NAND program for $XOR_4:\\{0,1\\}^4 \\rightarrow \\{0,1\\}$."
   ]
  },
  {
   "cell_type": "code",
   "execution_count": null,
   "metadata": {
    "slideshow": {
     "slide_type": "fragment"
    }
   },
   "outputs": [],
   "source": [
    "%%html\n",
    "<iframe src=\"https://e.ggtimer.com/240?alert=false\" frameborder=\"0\" allowfullscreen  width=\" 80%\" height=\"100\" style=\"box-shadow: 0 0 16px gray; margin: 10px;\" name=\"test\" id=\"test\"></iframe>"
   ]
  },
  {
   "cell_type": "markdown",
   "metadata": {
    "slideshow": {
     "slide_type": "slide"
    }
   },
   "source": [
    "## Composition\n",
    "\n",
    "If we have NAND program $P$ to compute $F:\\{0,1\\}^2 \\rightarrow \\{0,1\\}$  then there is NAND program $Q$ to compute $G:\\{0,1\\}^4 \\rightarrow \\{0,1\\}$\n",
    "where $G(a,b,c,d) = F(F(a,b),F(c,d))$\n",
    "\n",
    "Number of lines in $Q$  = $3 \\times$ number of lines in $P$\n",
    "\n",
    "__Exercise:__ Give 12 line NAND program for $XOR_4:\\{0,1\\}^4 \\rightarrow \\{0,1\\}$."
   ]
  },
  {
   "cell_type": "code",
   "execution_count": null,
   "metadata": {
    "slideshow": {
     "slide_type": "fragment"
    }
   },
   "outputs": [],
   "source": [
    "def XOR2(a,b):\n",
    "    t1 = NAND(a,b)\n",
    "    t2 = NAND(a,t1)\n",
    "    t3 = NAND(b,t1)\n",
    "    return NAND(t2,t3)\n",
    "\n",
    "def XOR4(a,b): return XOR2(XOR2(a,b),XOR2(c,d))\n",
    "\n",
    "nandcircuit(XOR4)"
   ]
  },
  {
   "cell_type": "markdown",
   "metadata": {
    "slideshow": {
     "slide_type": "slide"
    }
   },
   "source": [
    "## Addition\n",
    "\n",
    "__Theorem:__ For every $n$, there is a NAND program of at most $100n$ lines that computes $ADD_n:\\{0,1\\}^{2n} \\rightarrow \\{0,1\\}^{n+1}$, which adds two numbers in the binary basis."
   ]
  },
  {
   "cell_type": "code",
   "execution_count": null,
   "metadata": {
    "slideshow": {
     "slide_type": "fragment"
    }
   },
   "outputs": [],
   "source": [
    "def MAJ(a,b,c): return OR(OR(AND(a,b),AND(b,c)),AND(a,c))\n",
    "def ADDONE(a,b,c): return XOR(XOR(a,b),c), MAJ(a,b,c)\n",
    "\n",
    "def ADD(n,A,B):\n",
    "    Y = [0]*(n+1)\n",
    "    carry = zero(A[0])\n",
    "    for i in range(n):\n",
    "        Y[i],carry = ADDONE(A[i],B[i],carry)\n",
    "    Y[n] = carry\n",
    "    return Y\n",
    "\n",
    "ADD(5,[1,1,1,1,1],[1,0,0,0,0])        "
   ]
  },
  {
   "cell_type": "code",
   "execution_count": null,
   "metadata": {
    "slideshow": {
     "slide_type": "slide"
    }
   },
   "outputs": [],
   "source": [
    "def add3(a0,a1,a2,b0,b1,b2):\n",
    "    return ADD(3,[a0,a1,a2],[b0,b1,b2])\n",
    "\n",
    "nandcircuit(add3,pruneit=True)"
   ]
  },
  {
   "cell_type": "code",
   "execution_count": null,
   "metadata": {
    "slideshow": {
     "slide_type": "slide"
    }
   },
   "outputs": [],
   "source": [
    "def add5(a0,a1,a2,a3,a4,b0,b1,b2,b3,b4):\n",
    "    return ADD(5,[a0,a1,a2,a3,a4],[b0,b1,b2,b3,b4])\n",
    "\n",
    "nandcircuit(add5,pruneit=True)"
   ]
  },
  {
   "cell_type": "code",
   "execution_count": null,
   "metadata": {
    "slideshow": {
     "slide_type": "slide"
    }
   },
   "outputs": [],
   "source": [
    "len(nandcode(add5).split('\\n'))"
   ]
  },
  {
   "cell_type": "markdown",
   "metadata": {
    "slideshow": {
     "slide_type": "slide"
    }
   },
   "source": [
    "# Bottom line\n",
    "\n",
    "1. Can _mathematically define_ the notion of \"Program $P$ computes function $F$\", at least for _finite_ $F$.\n",
    "\n",
    "2. Can describe finite programs as either _circuits_ or _code_.\n",
    "\n",
    "3. Even this ultra simple programming language is strong enough to capture interesting algorithms. We can use the ideas of _abstraction_ and _composition_ to build complex programs from simple ones."
   ]
  },
  {
   "cell_type": "markdown",
   "metadata": {
    "slideshow": {
     "slide_type": "slide"
    }
   },
   "source": [
    "## Next up\n",
    "\n",
    "__First Major Theorem:__ For every $F:\\{0,1\\}^n \\rightarrow \\{0,1\\}^m$, there exists a NAND program $P$ that computes $F$."
   ]
  },
  {
   "cell_type": "markdown",
   "metadata": {
    "slideshow": {
     "slide_type": "fragment"
    }
   },
   "source": [
    "__We show:__ There is a program $P$ using $O(\\frac{m\\cdot 2^n}{n})$ operations."
   ]
  },
  {
   "cell_type": "markdown",
   "metadata": {
    "slideshow": {
     "slide_type": "fragment"
    }
   },
   "source": [
    "__Next next lecture:__  There exists _some_ $F:\\{0,1\\}^n \\rightarrow \\{0,1\\}^m$, such that the shortest program $P$ to compute $F$ requires $\\Omega(\\frac{m \\cdot 2^n}{n})$ operations"
   ]
  }
 ],
 "metadata": {
  "celltoolbar": "Slideshow",
  "kernelspec": {
   "display_name": "Python 3",
   "language": "python",
   "name": "python3"
  },
  "language_info": {
   "codemirror_mode": {
    "name": "ipython",
    "version": 3
   },
   "file_extension": ".py",
   "mimetype": "text/x-python",
   "name": "python",
   "nbconvert_exporter": "python",
   "pygments_lexer": "ipython3",
   "version": "3.6.5"
  }
 },
 "nbformat": 4,
 "nbformat_minor": 2
}
